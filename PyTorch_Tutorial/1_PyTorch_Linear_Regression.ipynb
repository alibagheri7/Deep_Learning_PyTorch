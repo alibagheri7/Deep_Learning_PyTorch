{
 "nbformat": 4,
 "nbformat_minor": 0,
 "metadata": {
  "colab": {
   "name": "1_PyTorch_Linear_Regression.ipynb",
   "provenance": []
  },
  "kernelspec": {
   "name": "python3",
   "display_name": "Python 3"
  },
  "language_info": {
   "name": "python"
  }
 },
 "cells": [
  {
   "cell_type": "markdown",
   "source": [
    "# linear regression with pytorch"
   ],
   "metadata": {
    "id": "ZNt9cvDppXS2",
    "pycharm": {
     "name": "#%% md\n"
    }
   }
  },
  {
   "cell_type": "markdown",
   "source": [
    "## 1- import libraries"
   ],
   "metadata": {
    "id": "F4JDocXWp-Hg",
    "pycharm": {
     "name": "#%% md\n"
    }
   }
  },
  {
   "cell_type": "code",
   "execution_count": null,
   "metadata": {
    "id": "EcXd9Z-LnLvD",
    "pycharm": {
     "name": "#%%\n"
    }
   },
   "outputs": [],
   "source": [
    "import torch\n",
    "import torch.nn as nn\n",
    "import numpy as np\n",
    "from sklearn import datasets\n",
    "import matplotlib.pyplot as plt"
   ]
  },
  {
   "cell_type": "markdown",
   "source": [
    "## 2- Prepare Dataset"
   ],
   "metadata": {
    "id": "Wopa7dfdqIPS",
    "pycharm": {
     "name": "#%% md\n"
    }
   }
  },
  {
   "cell_type": "code",
   "source": [
    "X_numpy , y_numpy = datasets.make_regression(n_samples = 1000 , n_features = 10 , noise = 30 , random_state = 33)"
   ],
   "metadata": {
    "id": "vM6SokZBndl4",
    "pycharm": {
     "name": "#%%\n"
    }
   },
   "execution_count": null,
   "outputs": []
  },
  {
   "cell_type": "code",
   "source": [
    "X = torch.from_numpy(X_numpy.astype(np.float32))\n",
    "y = torch.from_numpy(y_numpy.astype(np.float32))"
   ],
   "metadata": {
    "id": "d72dsM7doixL",
    "pycharm": {
     "name": "#%%\n"
    }
   },
   "execution_count": null,
   "outputs": []
  },
  {
   "cell_type": "code",
   "source": [
    "y.shape , X.shape"
   ],
   "metadata": {
    "colab": {
     "base_uri": "https://localhost:8080/"
    },
    "id": "Fav_k9cbpBqV",
    "outputId": "0b31ef80-ba81-43b0-83e7-0cafdba2d283",
    "pycharm": {
     "name": "#%%\n"
    }
   },
   "execution_count": null,
   "outputs": [
    {
     "output_type": "execute_result",
     "data": {
      "text/plain": [
       "(torch.Size([1000]), torch.Size([1000, 10]))"
      ]
     },
     "metadata": {},
     "execution_count": 17
    }
   ]
  },
  {
   "cell_type": "code",
   "source": [
    "y = y.view(y.shape[0],1)"
   ],
   "metadata": {
    "id": "8769lyekovNs",
    "pycharm": {
     "name": "#%%\n"
    }
   },
   "execution_count": null,
   "outputs": []
  },
  {
   "cell_type": "markdown",
   "source": [
    "## 3- Model"
   ],
   "metadata": {
    "id": "Sl0G1qPYqTd3",
    "pycharm": {
     "name": "#%% md\n"
    }
   }
  },
  {
   "cell_type": "code",
   "source": [
    "n_sample , n_features = X.shape"
   ],
   "metadata": {
    "id": "OnpEAaiCpJyt",
    "pycharm": {
     "name": "#%%\n"
    }
   },
   "execution_count": null,
   "outputs": []
  },
  {
   "cell_type": "code",
   "source": [
    "input_size = n_features\n",
    "output_size = 1"
   ],
   "metadata": {
    "id": "Qi0lQZmrpoER",
    "pycharm": {
     "name": "#%%\n"
    }
   },
   "execution_count": null,
   "outputs": []
  },
  {
   "cell_type": "code",
   "source": [
    "model = nn.Linear(input_size , output_size)"
   ],
   "metadata": {
    "id": "4-BbBoY1pxsa",
    "pycharm": {
     "name": "#%%\n"
    }
   },
   "execution_count": null,
   "outputs": []
  },
  {
   "cell_type": "markdown",
   "source": [
    "## 4- loss & optimzer"
   ],
   "metadata": {
    "id": "SFmMjTytq1ui",
    "pycharm": {
     "name": "#%% md\n"
    }
   }
  },
  {
   "cell_type": "code",
   "source": [
    "learning_rate = 0.1"
   ],
   "metadata": {
    "id": "DJZTyZv9rVxw",
    "pycharm": {
     "name": "#%%\n"
    }
   },
   "execution_count": null,
   "outputs": []
  },
  {
   "cell_type": "code",
   "source": [
    "criterion = nn.MSELoss()"
   ],
   "metadata": {
    "id": "ha6NnRDAqtbZ",
    "pycharm": {
     "name": "#%%\n"
    }
   },
   "execution_count": null,
   "outputs": []
  },
  {
   "cell_type": "code",
   "source": [
    "optimizer = torch.optim.SGD(model.parameters() , lr = learning_rate)"
   ],
   "metadata": {
    "id": "E4sVN4zBrL0H",
    "pycharm": {
     "name": "#%%\n"
    }
   },
   "execution_count": null,
   "outputs": []
  },
  {
   "cell_type": "markdown",
   "source": [
    "## 5- Training Loop"
   ],
   "metadata": {
    "id": "0TpZkg3Rr4M_",
    "pycharm": {
     "name": "#%% md\n"
    }
   }
  },
  {
   "cell_type": "code",
   "source": [
    "num_epochs = 100"
   ],
   "metadata": {
    "id": "1MnOeWOQr2lk",
    "pycharm": {
     "name": "#%%\n"
    }
   },
   "execution_count": null,
   "outputs": []
  },
  {
   "cell_type": "code",
   "source": [
    "for epoch in range(num_epochs):\n",
    "  # forward path\n",
    "  y_predicted = model(X)\n",
    "  loss = criterion(y_predicted , y)\n",
    "  # backward path\n",
    "  loss.backward()\n",
    "  # update\n",
    "  optimizer.step() # updates the weight\n",
    "  optimizer.zero_grad() # empties the gradients after each call of backward\n",
    "\n",
    "  if i % 10 == 0:\n",
    "    print(f'epoch: {epoch+1}, loss = {loss.item():.4f}')\n"
   ],
   "metadata": {
    "colab": {
     "base_uri": "https://localhost:8080/"
    },
    "id": "Kobq_5A9sCgJ",
    "outputId": "341758e0-6efe-4292-a981-956b59355e33",
    "pycharm": {
     "name": "#%%\n"
    }
   },
   "execution_count": null,
   "outputs": [
    {
     "output_type": "stream",
     "name": "stdout",
     "text": [
      "epoch: 1, loss = 861.2856\n",
      "epoch: 2, loss = 861.2856\n",
      "epoch: 3, loss = 861.2856\n",
      "epoch: 4, loss = 861.2856\n",
      "epoch: 5, loss = 861.2856\n",
      "epoch: 6, loss = 861.2856\n",
      "epoch: 7, loss = 861.2856\n",
      "epoch: 8, loss = 861.2856\n",
      "epoch: 9, loss = 861.2856\n",
      "epoch: 10, loss = 861.2856\n"
     ]
    }
   ]
  }
 ]
}